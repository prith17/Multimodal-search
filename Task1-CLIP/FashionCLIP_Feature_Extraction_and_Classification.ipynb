{
  "cells": [
    {
      "cell_type": "markdown",
      "metadata": {
        "id": "xfz7BSY7SP5P"
      },
      "source": [
        "# A Hands-On Tutorial on FashionCLIP\n",
        "\n",
        "Welcome to our FashionCLIP tutorial! Here we will show how you can embed your own images with FashionCLIP and play with the representations.\n",
        "\n",
        "[![Youtube Video](https://img.shields.io/badge/youtube-video-red)](https://www.youtube.com/watch?v=uqRSc-KSA1Y)\n",
        "[![HuggingFace Model](https://img.shields.io/badge/HF%20Model-Weights-yellow)](https://huggingface.co/spaces/clip-italian/clip-italian-demo)\n",
        "[![Open In Colab](https://colab.research.google.com/assets/colab-badge.svg)](https://colab.research.google.com/drive/1Z1hAxBnWjF76bEi9KQ6CMBBEmI_FVDrW?usp=sharing)\n",
        "[![Medium Blog Post](https://raw.githubusercontent.com/aleen42/badges/master/src/medium.svg)](https://towardsdatascience.com/teaching-clip-some-fashion-3005ac3fdcc3)\n",
        "\n",
        "\n",
        "**VERY IMPORTANT** \\\n",
        "If your collection of images is large, make sure you are using a **GPU** (if you are on Colab go to Runtime -> Change Runtime Type). Otherwise it's going to take long to compute embeddings!\n",
        "\n",
        "\n",
        "### Use Cases\n",
        "\n",
        "We will go through three different possible usages of FashionCLIP:\n",
        "\n",
        "*   **Image Retrieval.** Given a query, we will find the image that best describe that query.\n",
        "\n",
        "*   **Zero Shot Classification.** Given an image, we will try to classify some images using some labels.\n",
        "\n",
        "*   **Feature Extraction for Supervised Learning.** We will extract image features using FashionCLIP and use them to do image classification."
      ]
    },
    {
      "cell_type": "markdown",
      "metadata": {
        "id": "VZ3s403V5LKs"
      },
      "source": [
        "## Getting Started\n",
        "\n",
        "To start this tutorial, let's first download some images!"
      ]
    },
    {
      "cell_type": "code",
      "execution_count": null,
      "metadata": {
        "id": "mLyWzNhJwoS2"
      },
      "outputs": [],
      "source": [
        "%%capture\n",
        "!pip install gdown\n",
        "!gdown \"1igAuIEW_4h_51BG1o05WS0Q0-Cp17_-t&confirm=t\"\n",
        "!unzip data"
      ]
    },
    {
      "cell_type": "markdown",
      "metadata": {
        "id": "kFaN_ybWkI1F"
      },
      "source": [
        "The dataset we used is a sample that comes from [Kaggle](https://www.kaggle.com/competitions/h-and-m-personalized-fashion-recommendations).  We report here data access and use found on Kaggle.\n",
        "\n",
        "**A. Data Access and Use.**\n",
        "\n",
        "Competition Use and Non-Commercial & Academic Research: You may access and use the Competition Data for non-commercial purposes only, including for participating in the Competition and on Kaggle.com forums, and for academic research and education. The Competition Sponsor reserves the right to disqualify any participant who uses the Competition Data other than as permitted by the Competition Website and these Rules."
      ]
    },
    {
      "cell_type": "markdown",
      "metadata": {
        "id": "4dzpM2oASwM6"
      },
      "source": [
        "### The FashionCLIP Model\n",
        "\n",
        "We wrote a simple wrapper that allows you to play with the data a bit and do most of the things you might want to do with few lines of code!\n",
        "\n",
        "It should take 2/3 minutes to install."
      ]
    },
    {
      "cell_type": "code",
      "execution_count": null,
      "metadata": {
        "id": "tyBLvPLgSx5h"
      },
      "outputs": [],
      "source": [
        "%%capture\n",
        "!pip install -U fashion-clip"
      ]
    },
    {
      "cell_type": "code",
      "execution_count": null,
      "metadata": {
        "id": "WijCpqbIyH7T"
      },
      "outputs": [],
      "source": [
        "import sys\n",
        "#sys.path.append(\"fashion-clip/\")\n",
        "from fashion_clip.fashion_clip import FashionCLIP\n",
        "import pandas as pd\n",
        "import numpy as np\n",
        "from collections import Counter\n",
        "from PIL import Image\n",
        "import numpy as np\n",
        "from sklearn.metrics import classification_report\n",
        "from sklearn.model_selection import train_test_split\n",
        "from sklearn.metrics import *\n",
        "from sklearn.linear_model import LogisticRegression"
      ]
    },
    {
      "cell_type": "markdown",
      "metadata": {
        "id": "H1W2J4IAzlEz"
      },
      "source": [
        "Let's now FashionCLIP first. It's going to take a couple of minutes to download the model from the HuggingFace Hub."
      ]
    },
    {
      "cell_type": "code",
      "execution_count": null,
      "metadata": {
        "id": "-xEzYFUbydJY"
      },
      "outputs": [],
      "source": [
        "%%capture\n",
        "fclip = FashionCLIP('fashion-clip')"
      ]
    },
    {
      "cell_type": "markdown",
      "metadata": {
        "id": "ViPu0y8C0UfS"
      },
      "source": [
        "FashionCLIP, as CLIP, creates a shared vector space for images and text. This allows us to tackle many tasks, such as retrieval (find the image that is most similar to a given query) or zero shot classification (find which lables fit an image best).\n",
        "\n",
        "There are basically two main components, and image encoder (to generate a vector starting from an image) and a text encoder (to generate a vector startinf from a piece of text). The general concept is summarized in the following GIF (in 2D)."
      ]
    },
    {
      "cell_type": "markdown",
      "metadata": {
        "id": "8oc2jvxPpFWQ"
      },
      "source": [
        "\n",
        "\n",
        "<img src=\"https://miro.medium.com/v2/resize:fit:1400/0*FLNMtW6jK51fm7Og\"  width=\"400\">\n",
        "\n"
      ]
    },
    {
      "cell_type": "markdown",
      "metadata": {
        "id": "AsPVQgNphwFX"
      },
      "source": [
        "First thing first, let's load the data! \n",
        "Also, let's drop some elements to simplify the analysis."
      ]
    },
    {
      "cell_type": "code",
      "execution_count": null,
      "metadata": {
        "colab": {
          "base_uri": "https://localhost:8080/",
          "height": 393
        },
        "id": "9emW_P2fhxSW",
        "outputId": "eb3b19ee-6433-48a4-e178-76df35d66039"
      },
      "outputs": [
        {
          "output_type": "execute_result",
          "data": {
            "text/plain": [
              "   article_id  product_code                   prod_name  product_type_no  \\\n",
              "0   108775044        108775                   Strap top              253   \n",
              "1   176754003        176754  2 Row Braided Headband (1)               74   \n",
              "3   189634031        189634           Long Leg Leggings              273   \n",
              "\n",
              "  product_type_name  product_group_name  graphical_appearance_no  \\\n",
              "0          Vest top  Garment Upper body                  1010016   \n",
              "1   Hair/alice band         Accessories                  1010016   \n",
              "3   Leggings/Tights  Garment Lower body                  1010016   \n",
              "\n",
              "  graphical_appearance_name  colour_group_code colour_group_name  ...  \\\n",
              "0                     Solid                 10             White  ...   \n",
              "1                     Solid                 17   Yellowish Brown  ...   \n",
              "3                     Solid                 93        Dark Green  ...   \n",
              "\n",
              "    department_name index_code          index_name index_group_no  \\\n",
              "0      Jersey Basic          A          Ladieswear              1   \n",
              "1  Hair Accessories          C  Ladies Accessories              1   \n",
              "3           Basic 1          D             Divided              2   \n",
              "\n",
              "   index_group_name section_no              section_name garment_group_no  \\\n",
              "0        Ladieswear         16    Womens Everyday Basics             1002   \n",
              "1        Ladieswear         66  Womens Small accessories             1019   \n",
              "3           Divided         51            Divided Basics             1002   \n",
              "\n",
              "   garment_group_name                                        detail_desc  \n",
              "0        Jersey Basic            Jersey top with narrow shoulder straps.  \n",
              "1         Accessories  Two-strand hairband with braids in imitation s...  \n",
              "3        Jersey Basic  Leggings in stretch jersey with an elasticated...  \n",
              "\n",
              "[3 rows x 25 columns]"
            ],
            "text/html": [
              "\n",
              "  <div id=\"df-b37dc5fa-3074-4948-9070-5ef3f6a1c60e\">\n",
              "    <div class=\"colab-df-container\">\n",
              "      <div>\n",
              "<style scoped>\n",
              "    .dataframe tbody tr th:only-of-type {\n",
              "        vertical-align: middle;\n",
              "    }\n",
              "\n",
              "    .dataframe tbody tr th {\n",
              "        vertical-align: top;\n",
              "    }\n",
              "\n",
              "    .dataframe thead th {\n",
              "        text-align: right;\n",
              "    }\n",
              "</style>\n",
              "<table border=\"1\" class=\"dataframe\">\n",
              "  <thead>\n",
              "    <tr style=\"text-align: right;\">\n",
              "      <th></th>\n",
              "      <th>article_id</th>\n",
              "      <th>product_code</th>\n",
              "      <th>prod_name</th>\n",
              "      <th>product_type_no</th>\n",
              "      <th>product_type_name</th>\n",
              "      <th>product_group_name</th>\n",
              "      <th>graphical_appearance_no</th>\n",
              "      <th>graphical_appearance_name</th>\n",
              "      <th>colour_group_code</th>\n",
              "      <th>colour_group_name</th>\n",
              "      <th>...</th>\n",
              "      <th>department_name</th>\n",
              "      <th>index_code</th>\n",
              "      <th>index_name</th>\n",
              "      <th>index_group_no</th>\n",
              "      <th>index_group_name</th>\n",
              "      <th>section_no</th>\n",
              "      <th>section_name</th>\n",
              "      <th>garment_group_no</th>\n",
              "      <th>garment_group_name</th>\n",
              "      <th>detail_desc</th>\n",
              "    </tr>\n",
              "  </thead>\n",
              "  <tbody>\n",
              "    <tr>\n",
              "      <th>0</th>\n",
              "      <td>108775044</td>\n",
              "      <td>108775</td>\n",
              "      <td>Strap top</td>\n",
              "      <td>253</td>\n",
              "      <td>Vest top</td>\n",
              "      <td>Garment Upper body</td>\n",
              "      <td>1010016</td>\n",
              "      <td>Solid</td>\n",
              "      <td>10</td>\n",
              "      <td>White</td>\n",
              "      <td>...</td>\n",
              "      <td>Jersey Basic</td>\n",
              "      <td>A</td>\n",
              "      <td>Ladieswear</td>\n",
              "      <td>1</td>\n",
              "      <td>Ladieswear</td>\n",
              "      <td>16</td>\n",
              "      <td>Womens Everyday Basics</td>\n",
              "      <td>1002</td>\n",
              "      <td>Jersey Basic</td>\n",
              "      <td>Jersey top with narrow shoulder straps.</td>\n",
              "    </tr>\n",
              "    <tr>\n",
              "      <th>1</th>\n",
              "      <td>176754003</td>\n",
              "      <td>176754</td>\n",
              "      <td>2 Row Braided Headband (1)</td>\n",
              "      <td>74</td>\n",
              "      <td>Hair/alice band</td>\n",
              "      <td>Accessories</td>\n",
              "      <td>1010016</td>\n",
              "      <td>Solid</td>\n",
              "      <td>17</td>\n",
              "      <td>Yellowish Brown</td>\n",
              "      <td>...</td>\n",
              "      <td>Hair Accessories</td>\n",
              "      <td>C</td>\n",
              "      <td>Ladies Accessories</td>\n",
              "      <td>1</td>\n",
              "      <td>Ladieswear</td>\n",
              "      <td>66</td>\n",
              "      <td>Womens Small accessories</td>\n",
              "      <td>1019</td>\n",
              "      <td>Accessories</td>\n",
              "      <td>Two-strand hairband with braids in imitation s...</td>\n",
              "    </tr>\n",
              "    <tr>\n",
              "      <th>3</th>\n",
              "      <td>189634031</td>\n",
              "      <td>189634</td>\n",
              "      <td>Long Leg Leggings</td>\n",
              "      <td>273</td>\n",
              "      <td>Leggings/Tights</td>\n",
              "      <td>Garment Lower body</td>\n",
              "      <td>1010016</td>\n",
              "      <td>Solid</td>\n",
              "      <td>93</td>\n",
              "      <td>Dark Green</td>\n",
              "      <td>...</td>\n",
              "      <td>Basic 1</td>\n",
              "      <td>D</td>\n",
              "      <td>Divided</td>\n",
              "      <td>2</td>\n",
              "      <td>Divided</td>\n",
              "      <td>51</td>\n",
              "      <td>Divided Basics</td>\n",
              "      <td>1002</td>\n",
              "      <td>Jersey Basic</td>\n",
              "      <td>Leggings in stretch jersey with an elasticated...</td>\n",
              "    </tr>\n",
              "  </tbody>\n",
              "</table>\n",
              "<p>3 rows × 25 columns</p>\n",
              "</div>\n",
              "      <button class=\"colab-df-convert\" onclick=\"convertToInteractive('df-b37dc5fa-3074-4948-9070-5ef3f6a1c60e')\"\n",
              "              title=\"Convert this dataframe to an interactive table.\"\n",
              "              style=\"display:none;\">\n",
              "        \n",
              "  <svg xmlns=\"http://www.w3.org/2000/svg\" height=\"24px\"viewBox=\"0 0 24 24\"\n",
              "       width=\"24px\">\n",
              "    <path d=\"M0 0h24v24H0V0z\" fill=\"none\"/>\n",
              "    <path d=\"M18.56 5.44l.94 2.06.94-2.06 2.06-.94-2.06-.94-.94-2.06-.94 2.06-2.06.94zm-11 1L8.5 8.5l.94-2.06 2.06-.94-2.06-.94L8.5 2.5l-.94 2.06-2.06.94zm10 10l.94 2.06.94-2.06 2.06-.94-2.06-.94-.94-2.06-.94 2.06-2.06.94z\"/><path d=\"M17.41 7.96l-1.37-1.37c-.4-.4-.92-.59-1.43-.59-.52 0-1.04.2-1.43.59L10.3 9.45l-7.72 7.72c-.78.78-.78 2.05 0 2.83L4 21.41c.39.39.9.59 1.41.59.51 0 1.02-.2 1.41-.59l7.78-7.78 2.81-2.81c.8-.78.8-2.07 0-2.86zM5.41 20L4 18.59l7.72-7.72 1.47 1.35L5.41 20z\"/>\n",
              "  </svg>\n",
              "      </button>\n",
              "      \n",
              "  <style>\n",
              "    .colab-df-container {\n",
              "      display:flex;\n",
              "      flex-wrap:wrap;\n",
              "      gap: 12px;\n",
              "    }\n",
              "\n",
              "    .colab-df-convert {\n",
              "      background-color: #E8F0FE;\n",
              "      border: none;\n",
              "      border-radius: 50%;\n",
              "      cursor: pointer;\n",
              "      display: none;\n",
              "      fill: #1967D2;\n",
              "      height: 32px;\n",
              "      padding: 0 0 0 0;\n",
              "      width: 32px;\n",
              "    }\n",
              "\n",
              "    .colab-df-convert:hover {\n",
              "      background-color: #E2EBFA;\n",
              "      box-shadow: 0px 1px 2px rgba(60, 64, 67, 0.3), 0px 1px 3px 1px rgba(60, 64, 67, 0.15);\n",
              "      fill: #174EA6;\n",
              "    }\n",
              "\n",
              "    [theme=dark] .colab-df-convert {\n",
              "      background-color: #3B4455;\n",
              "      fill: #D2E3FC;\n",
              "    }\n",
              "\n",
              "    [theme=dark] .colab-df-convert:hover {\n",
              "      background-color: #434B5C;\n",
              "      box-shadow: 0px 1px 3px 1px rgba(0, 0, 0, 0.15);\n",
              "      filter: drop-shadow(0px 1px 2px rgba(0, 0, 0, 0.3));\n",
              "      fill: #FFFFFF;\n",
              "    }\n",
              "  </style>\n",
              "\n",
              "      <script>\n",
              "        const buttonEl =\n",
              "          document.querySelector('#df-b37dc5fa-3074-4948-9070-5ef3f6a1c60e button.colab-df-convert');\n",
              "        buttonEl.style.display =\n",
              "          google.colab.kernel.accessAllowed ? 'block' : 'none';\n",
              "\n",
              "        async function convertToInteractive(key) {\n",
              "          const element = document.querySelector('#df-b37dc5fa-3074-4948-9070-5ef3f6a1c60e');\n",
              "          const dataTable =\n",
              "            await google.colab.kernel.invokeFunction('convertToInteractive',\n",
              "                                                     [key], {});\n",
              "          if (!dataTable) return;\n",
              "\n",
              "          const docLinkHtml = 'Like what you see? Visit the ' +\n",
              "            '<a target=\"_blank\" href=https://colab.research.google.com/notebooks/data_table.ipynb>data table notebook</a>'\n",
              "            + ' to learn more about interactive tables.';\n",
              "          element.innerHTML = '';\n",
              "          dataTable['output_type'] = 'display_data';\n",
              "          await google.colab.output.renderOutput(dataTable, element);\n",
              "          const docLink = document.createElement('div');\n",
              "          docLink.innerHTML = docLinkHtml;\n",
              "          element.appendChild(docLink);\n",
              "        }\n",
              "      </script>\n",
              "    </div>\n",
              "  </div>\n",
              "  "
            ]
          },
          "metadata": {},
          "execution_count": 6
        }
      ],
      "source": [
        "articles = pd.read_csv(\"data_for_fashion_clip/articles.csv\")\n",
        "\n",
        "# drop items that have the same description\n",
        "subset = articles.drop_duplicates(\"detail_desc\").copy()\n",
        "\n",
        "# remove items of unkown category\n",
        "subset = subset[~subset[\"product_group_name\"].isin([\"Unknown\"])]\n",
        "\n",
        "# FashionCLIP has a limit of 77 tokens, let's play it safe and drop things with more than 40 tokens\n",
        "subset = subset[subset[\"detail_desc\"].apply(lambda x : 4 < len(str(x).split()) < 40)]\n",
        "\n",
        "# We also drop products types that do not occur very frequently in this subset of data\n",
        "most_frequent_product_types = [k for k, v in dict(Counter(subset[\"product_type_name\"].tolist())).items() if v > 10]\n",
        "subset = subset[subset[\"product_type_name\"].isin(most_frequent_product_types)]\n",
        "\n",
        "# lots of data here, but we will just use only descriptions and a couple of other columns\n",
        "subset.head(3)"
      ]
    },
    {
      "cell_type": "code",
      "execution_count": null,
      "metadata": {
        "colab": {
          "base_uri": "https://localhost:8080/",
          "height": 35
        },
        "id": "kTiCnV7Nko5L",
        "outputId": "c51e30c6-282b-411d-cdf4-115f0fbc37d3"
      },
      "outputs": [
        {
          "output_type": "execute_result",
          "data": {
            "text/plain": [
              "'There are 3104 elements in the dataset'"
            ],
            "application/vnd.google.colaboratory.intrinsic+json": {
              "type": "string"
            }
          },
          "metadata": {},
          "execution_count": 8
        }
      ],
      "source": [
        "subset.to_csv(\"subset_data.csv\", index=False)\n",
        "f\"There are {len(subset)} elements in the dataset\""
      ]
    },
    {
      "cell_type": "markdown",
      "metadata": {
        "id": "TcLNKhgD75pm"
      },
      "source": [
        "## Image Retrieval\n",
        "\n",
        "How do we do retrieval? \n",
        "\n",
        "We encode a search query (e.g., \"A red dress\") with FashionCLIP text encoder and retrieve the closest image vectors through a simple dot product. The greater the value of the dot product, the more similar the text and the image are.\n",
        "\n",
        "<img src=\"https://miro.medium.com/v2/resize:fit:1400/1*cnKHgLAumVyuHuK9pkqr7A.gif\"  width=\"800\">\n"
      ]
    },
    {
      "cell_type": "markdown",
      "metadata": {
        "id": "rV3e8bLpBpAS"
      },
      "source": [
        "Ok now let's get all the images and all the captions, generate embeddings and then normalize the embeddings to unit norm."
      ]
    },
    {
      "cell_type": "code",
      "execution_count": null,
      "metadata": {
        "colab": {
          "base_uri": "https://localhost:8080/",
          "height": 52,
          "referenced_widgets": [
            "3b733dc9d712434cb0cb8594042c163e",
            "1f24167f63fa4015bc71f7ff48f693ad",
            "a961cf208303498986c900d96dd08ae8",
            "36f97007092d4fc79adf99b2c6d6475c",
            "f19b95fa5e2647f3ac9a6738d2bdbec3",
            "79774960500147ceaa5845c4bc127691",
            "7f75efcd47974b5082a8df33aa5f6e6a",
            "b5c6d8c3c7a941809d5d89c79a281d11",
            "1dd2290be2324b7180753a8c9ab8a4b4",
            "25aa7b72f5544fb8959f79fdb5befdc1",
            "85b635c66d234894a726ad86d1e733d0"
          ]
        },
        "id": "cla9wews4eZg",
        "outputId": "cef3899b-e696-46ae-d76e-15e305f40bf4"
      },
      "outputs": [
        {
          "output_type": "stream",
          "name": "stderr",
          "text": [
            "100%|██████████| 97/97 [03:42<00:00,  2.30s/it]\n"
          ]
        },
        {
          "output_type": "display_data",
          "data": {
            "text/plain": [
              "Map:   0%|          | 0/3104 [00:00<?, ? examples/s]"
            ],
            "application/vnd.jupyter.widget-view+json": {
              "version_major": 2,
              "version_minor": 0,
              "model_id": "3b733dc9d712434cb0cb8594042c163e"
            }
          },
          "metadata": {}
        },
        {
          "output_type": "stream",
          "name": "stderr",
          "text": [
            "100%|██████████| 97/97 [00:07<00:00, 12.82it/s]\n"
          ]
        }
      ],
      "source": [
        "images = [\"data_for_fashion_clip/\" + str(k) + \".jpg\" for k in subset[\"article_id\"].tolist()]\n",
        "texts = subset[\"detail_desc\"].tolist()\n",
        "\n",
        "# we create image embeddings and text embeddings\n",
        "image_embeddings = fclip.encode_images(images, batch_size=32)\n",
        "text_embeddings = fclip.encode_text(texts, batch_size=32)\n",
        "\n",
        "# we normalize the embeddings to unit norm (so that we can use dot product instead of cosine similarity to do comparisons)\n",
        "image_embeddings = image_embeddings/np.linalg.norm(image_embeddings, ord=2, axis=-1, keepdims=True)\n",
        "text_embeddings = text_embeddings/np.linalg.norm(text_embeddings, ord=2, axis=-1, keepdims=True)"
      ]
    },
    {
      "cell_type": "markdown",
      "metadata": {
        "id": "ZHQWIMzJ5xCb"
      },
      "source": [
        "Let's write a quick function to see how well our retrieval works! We are going to compute **precision@5**."
      ]
    },
    {
      "cell_type": "code",
      "execution_count": null,
      "metadata": {
        "id": "z5V_JIF81WAM"
      },
      "outputs": [],
      "source": [
        "precision = 0\n",
        "\n",
        "# we could batch this operation to make it faster\n",
        "for index, t in enumerate(text_embeddings):\n",
        "    arr = t.dot(image_embeddings.T)\n",
        "\n",
        "    best = arr.argsort()[-5:][::-1]\n",
        "\n",
        "    if index in best:\n",
        "        precision +=1\n",
        "\n",
        "round(precision/len(text_embeddings), 2)"
      ]
    },
    {
      "cell_type": "markdown",
      "metadata": {
        "id": "e7v6WUkWDCE6"
      },
      "source": [
        "Good! **0.54** on this completely unseen dataset is honestly a pretty good result! It means that more than half of the times, the product we are looking for is in the top 5 returned items.\n",
        "\n",
        "### Building a Toy Search Engine\n",
        "\n",
        "Let's now test our toy \"product search engine\". We will embed a textual query and then rank the images we have by similarity with the query vector. \n",
        "\n"
      ]
    },
    {
      "cell_type": "code",
      "execution_count": null,
      "metadata": {
        "id": "X5VNv1lx1rY1"
      },
      "outputs": [],
      "source": [
        "text_embedding = fclip.encode_text([\"a pair of pink shorts\"], 32)[0]\n",
        "\n",
        "id_of_matched_object = np.argmax(text_embedding.dot(image_embeddings.T))\n",
        "found_object = subset[\"article_id\"].iloc[id_of_matched_object].tolist()\n",
        "\n",
        "fixed_height = 224\n",
        "\n",
        "image = Image.open(f\"data_for_fashion_clip/{found_object}.jpg\")\n",
        "height_percent = (fixed_height / float(image.size[1]))\n",
        "width_size = int((float(image.size[0]) * float(height_percent)))\n",
        "image = image.resize((width_size, fixed_height), Image.NEAREST)\n",
        "\n",
        "image"
      ]
    },
    {
      "cell_type": "markdown",
      "metadata": {
        "id": "eU-krCddFFcF"
      },
      "source": [
        "Note that, if the query does not make sense - in this context - the model is not going to return anything useful."
      ]
    },
    {
      "cell_type": "code",
      "execution_count": null,
      "metadata": {
        "id": "CFAXbE17FBdK"
      },
      "outputs": [],
      "source": [
        "text_embedding = fclip.encode_text([\"a house\"], 32)[0]\n",
        "\n",
        "id_of_matched_object = np.argmax(text_embedding.dot(image_embeddings.T))\n",
        "found_object = subset[\"article_id\"].iloc[id_of_matched_object].tolist()\n",
        "\n",
        "fixed_height = 224\n",
        "\n",
        "image = Image.open(f\"data_for_fashion_clip/{found_object}.jpg\")\n",
        "height_percent = (fixed_height / float(image.size[1]))\n",
        "width_size = int((float(image.size[0]) * float(height_percent)))\n",
        "image = image.resize((width_size, fixed_height), Image.NEAREST)\n",
        "\n",
        "image"
      ]
    },
    {
      "cell_type": "markdown",
      "metadata": {
        "id": "87URDy7xh65d"
      },
      "source": [
        "# Zero Shot Classification\n",
        "\n",
        "ZeroShot classification is one of the most exciting applications of CLIP like models! We encode the image of a fashion item we want to classify with FashionCLIP’s image encoder and retrieve the closest label vectors through a dot product.\n",
        "\n",
        "<img src=\"https://miro.medium.com/v2/resize:fit:1400/1*No6ZONpQMIcfFaNMOI5oNw.gif\"  width=\"800\">\n",
        "\n"
      ]
    },
    {
      "cell_type": "code",
      "execution_count": null,
      "metadata": {
        "id": "kZbAxKKKiBvq"
      },
      "outputs": [],
      "source": [
        "labels = subset[\"product_type_name\"].unique()\n",
        "print(f\"These are our labels: {labels}\")"
      ]
    },
    {
      "cell_type": "code",
      "execution_count": null,
      "metadata": {
        "id": "sGdYbWx9p3oB"
      },
      "outputs": [],
      "source": [
        "labels_prompt = [f\"a photo of a {k}\" for k in labels]\n",
        "\n",
        "label_embeddings = fclip.encode_text(labels_prompt, batch_size=32)\n",
        "label_embeddings = label_embeddings/np.linalg.norm(label_embeddings, ord=2, axis=-1, keepdims=True)"
      ]
    },
    {
      "cell_type": "code",
      "execution_count": null,
      "metadata": {
        "id": "4SFckqe7msFn"
      },
      "outputs": [],
      "source": [
        "# let's compute the class distribution for all images\n",
        "predicted_classes_distribution = label_embeddings.dot(image_embeddings.T)"
      ]
    },
    {
      "cell_type": "code",
      "execution_count": null,
      "metadata": {
        "id": "WjsDedBFm1VQ"
      },
      "outputs": [],
      "source": [
        "# let's take the best label (the most similar to the image)\n",
        "predicted = [labels[k] for k in np.argmax(predicted_classes_distribution, axis=0)]"
      ]
    },
    {
      "cell_type": "code",
      "execution_count": null,
      "metadata": {
        "id": "B2PulVuMnB7J"
      },
      "outputs": [],
      "source": [
        "print(classification_report(subset[\"product_type_name\"], predicted))"
      ]
    },
    {
      "cell_type": "markdown",
      "metadata": {
        "id": "iE4Kgt_DqG4A"
      },
      "source": [
        "Results look good! **0.69** in Macro F1 on many classes **without the need of training anything**!!\n",
        "\n",
        "There are a couple of classes in which we don't do well, for example **Top** and it might be because in English it's an ambigous term.\n",
        "\n",
        "Moreover, I haven't actually searched for a prompt that works well and some of the classes contain a \"\\\" in the name that might complicate the prediction. \n",
        "\n",
        "Anyway, considering that we did this without studying the data much, we got a pretty good performance!"
      ]
    },
    {
      "cell_type": "markdown",
      "metadata": {
        "id": "O4r6m49W1WTn"
      },
      "source": [
        "# Feature Extraction for Supervised Learning\n",
        "\n",
        "Finally, let's do some classification with the image features we have extracted before. We will use the features to train a linear classifier and see how it performs!\n",
        "\n"
      ]
    },
    {
      "cell_type": "code",
      "execution_count": null,
      "metadata": {
        "id": "qYX4S4zX8Q_D"
      },
      "outputs": [],
      "source": [
        "classes = subset[\"product_group_name\"].tolist()\n",
        "X_train, X_test, y_train, y_test = train_test_split(image_embeddings, classes, test_size=0.20, random_state=32, stratify=classes)"
      ]
    },
    {
      "cell_type": "code",
      "execution_count": null,
      "metadata": {
        "id": "16vqd6Gf8y48"
      },
      "outputs": [],
      "source": [
        "clf = LogisticRegression(random_state=0, class_weight=\"balanced\").fit(X_train, y_train)"
      ]
    },
    {
      "cell_type": "code",
      "execution_count": null,
      "metadata": {
        "id": "hVtH8WS7851f"
      },
      "outputs": [],
      "source": [
        "print(classification_report(y_test, clf.predict(X_test)))"
      ]
    },
    {
      "cell_type": "markdown",
      "metadata": {
        "id": "0u1z1vu6q6t4"
      },
      "source": [
        "We slightly under perform on Nightwear, but probably because we don't have much data. But the classifier works really well!\n",
        "\n",
        "\n",
        "Note: If you do this with **product_type_name** you are going to get a Macro F1 0.86 (that is better than the zero-shot one!)."
      ]
    },
    {
      "cell_type": "markdown",
      "metadata": {
        "id": "cOrcmZEB_ffg"
      },
      "source": [
        "### Visualizing Image Embeddings in the Latent Space\n",
        "\n",
        "To address our use cases, we assume FashionCLIP embeds images in the latent space following an underlying semantics. Let's use a dimensionality reduction algorithm to visualize that.\n",
        "\n",
        "UMAP is a well-known dimension reduction algorithm that works out-of-the-box on multidimensional data. Through UMAP, we can remap our image embeddings into a 2D space and plot it as a scatterplot."
      ]
    },
    {
      "cell_type": "code",
      "execution_count": null,
      "metadata": {
        "colab": {
          "background_save": true
        },
        "id": "ncrbsEa6_kyi"
      },
      "outputs": [],
      "source": [
        "import umap\n",
        "import umap.plot\n",
        "reducer = umap.UMAP()"
      ]
    },
    {
      "cell_type": "code",
      "execution_count": null,
      "metadata": {
        "colab": {
          "background_save": true
        },
        "id": "0si3bC8d_tUS"
      },
      "outputs": [],
      "source": [
        "umap_embeddings = reducer.fit_transform(image_embeddings)"
      ]
    },
    {
      "cell_type": "code",
      "execution_count": null,
      "metadata": {
        "colab": {
          "background_save": true
        },
        "id": "en7yaftDAYT8",
        "outputId": "c5835cb5-1bb2-43d6-c4b7-634b5a6f4d0a"
      },
      "outputs": [
        {
          "data": {
            "text/plain": [
              "(3104, 2)"
            ]
          },
          "execution_count": 21,
          "metadata": {},
          "output_type": "execute_result"
        }
      ],
      "source": [
        "# shape: (number of images, 2)\n",
        "umap_embeddings.shape "
      ]
    },
    {
      "cell_type": "code",
      "execution_count": null,
      "metadata": {
        "colab": {
          "background_save": true
        },
        "id": "CytCtBtD__Zj",
        "outputId": "eb0ef1db-3dba-46f8-e41f-47ad93ca75a9"
      },
      "outputs": [
        {
          "data": {
            "text/plain": [
              "<Axes: >"
            ]
          },
          "execution_count": 22,
          "metadata": {},
          "output_type": "execute_result"
        },
        {
          "data": {
            "image/png": "[encoded data removed]",
            "text/plain": [
              "<Figure size 800x800 with 1 Axes>"
            ]
          },
          "metadata": {},
          "output_type": "display_data"
        }
      ],
      "source": [
        "umap.plot.points(reducer, labels=np.array(classes))"
      ]
    },
    {
      "cell_type": "markdown",
      "metadata": {
        "id": "3D7Y7VkDIfw4"
      },
      "source": [
        "UMAP reduction highlights interesting things:\n",
        "- distinct fashion categories cluster in distinct regions of the space;\n",
        "- shoes, accessories, socks & tights are well separated from garnments images."
      ]
    }
  ],
  "metadata": {
    "accelerator": "GPU",
    "colab": {
      "provenance": []
    },
    "gpuClass": "standard",
    "kernelspec": {
      "display_name": "Python 3",
      "name": "python3"
    },
    "language_info": {
      "name": "python"
    },
    "widgets": {
      "application/vnd.jupyter.widget-state+json": {
        "3b733dc9d712434cb0cb8594042c163e": {
          "model_module": "@jupyter-widgets/controls",
          "model_name": "HBoxModel",
          "model_module_version": "1.5.0",
          "state": {
            "_dom_classes": [],
            "_model_module": "@jupyter-widgets/controls",
            "_model_module_version": "1.5.0",
            "_model_name": "HBoxModel",
            "_view_count": null,
            "_view_module": "@jupyter-widgets/controls",
            "_view_module_version": "1.5.0",
            "_view_name": "HBoxView",
            "box_style": "",
            "children": [
              "IPY_MODEL_1f24167f63fa4015bc71f7ff48f693ad",
              "IPY_MODEL_a961cf208303498986c900d96dd08ae8",
              "IPY_MODEL_36f97007092d4fc79adf99b2c6d6475c"
            ],
            "layout": "IPY_MODEL_f19b95fa5e2647f3ac9a6738d2bdbec3"
          }
        },
        "1f24167f63fa4015bc71f7ff48f693ad": {
          "model_module": "@jupyter-widgets/controls",
          "model_name": "HTMLModel",
          "model_module_version": "1.5.0",
          "state": {
            "_dom_classes": [],
            "_model_module": "@jupyter-widgets/controls",
            "_model_module_version": "1.5.0",
            "_model_name": "HTMLModel",
            "_view_count": null,
            "_view_module": "@jupyter-widgets/controls",
            "_view_module_version": "1.5.0",
            "_view_name": "HTMLView",
            "description": "",
            "description_tooltip": null,
            "layout": "IPY_MODEL_79774960500147ceaa5845c4bc127691",
            "placeholder": "​",
            "style": "IPY_MODEL_7f75efcd47974b5082a8df33aa5f6e6a",
            "value": "Map:  97%"
          }
        },
        "a961cf208303498986c900d96dd08ae8": {
          "model_module": "@jupyter-widgets/controls",
          "model_name": "FloatProgressModel",
          "model_module_version": "1.5.0",
          "state": {
            "_dom_classes": [],
            "_model_module": "@jupyter-widgets/controls",
            "_model_module_version": "1.5.0",
            "_model_name": "FloatProgressModel",
            "_view_count": null,
            "_view_module": "@jupyter-widgets/controls",
            "_view_module_version": "1.5.0",
            "_view_name": "ProgressView",
            "bar_style": "",
            "description": "",
            "description_tooltip": null,
            "layout": "IPY_MODEL_b5c6d8c3c7a941809d5d89c79a281d11",
            "max": 3104,
            "min": 0,
            "orientation": "horizontal",
            "style": "IPY_MODEL_1dd2290be2324b7180753a8c9ab8a4b4",
            "value": 3104
          }
        },
        "36f97007092d4fc79adf99b2c6d6475c": {
          "model_module": "@jupyter-widgets/controls",
          "model_name": "HTMLModel",
          "model_module_version": "1.5.0",
          "state": {
            "_dom_classes": [],
            "_model_module": "@jupyter-widgets/controls",
            "_model_module_version": "1.5.0",
            "_model_name": "HTMLModel",
            "_view_count": null,
            "_view_module": "@jupyter-widgets/controls",
            "_view_module_version": "1.5.0",
            "_view_name": "HTMLView",
            "description": "",
            "description_tooltip": null,
            "layout": "IPY_MODEL_25aa7b72f5544fb8959f79fdb5befdc1",
            "placeholder": "​",
            "style": "IPY_MODEL_85b635c66d234894a726ad86d1e733d0",
            "value": " 3000/3104 [00:00&lt;00:00, 6707.15 examples/s]"
          }
        },
        "f19b95fa5e2647f3ac9a6738d2bdbec3": {
          "model_module": "@jupyter-widgets/base",
          "model_name": "LayoutModel",
          "model_module_version": "1.2.0",
          "state": {
            "_model_module": "@jupyter-widgets/base",
            "_model_module_version": "1.2.0",
            "_model_name": "LayoutModel",
            "_view_count": null,
            "_view_module": "@jupyter-widgets/base",
            "_view_module_version": "1.2.0",
            "_view_name": "LayoutView",
            "align_content": null,
            "align_items": null,
            "align_self": null,
            "border": null,
            "bottom": null,
            "display": null,
            "flex": null,
            "flex_flow": null,
            "grid_area": null,
            "grid_auto_columns": null,
            "grid_auto_flow": null,
            "grid_auto_rows": null,
            "grid_column": null,
            "grid_gap": null,
            "grid_row": null,
            "grid_template_areas": null,
            "grid_template_columns": null,
            "grid_template_rows": null,
            "height": null,
            "justify_content": null,
            "justify_items": null,
            "left": null,
            "margin": null,
            "max_height": null,
            "max_width": null,
            "min_height": null,
            "min_width": null,
            "object_fit": null,
            "object_position": null,
            "order": null,
            "overflow": null,
            "overflow_x": null,
            "overflow_y": null,
            "padding": null,
            "right": null,
            "top": null,
            "visibility": "hidden",
            "width": null
          }
        },
        "79774960500147ceaa5845c4bc127691": {
          "model_module": "@jupyter-widgets/base",
          "model_name": "LayoutModel",
          "model_module_version": "1.2.0",
          "state": {
            "_model_module": "@jupyter-widgets/base",
            "_model_module_version": "1.2.0",
            "_model_name": "LayoutModel",
            "_view_count": null,
            "_view_module": "@jupyter-widgets/base",
            "_view_module_version": "1.2.0",
            "_view_name": "LayoutView",
            "align_content": null,
            "align_items": null,
            "align_self": null,
            "border": null,
            "bottom": null,
            "display": null,
            "flex": null,
            "flex_flow": null,
            "grid_area": null,
            "grid_auto_columns": null,
            "grid_auto_flow": null,
            "grid_auto_rows": null,
            "grid_column": null,
            "grid_gap": null,
            "grid_row": null,
            "grid_template_areas": null,
            "grid_template_columns": null,
            "grid_template_rows": null,
            "height": null,
            "justify_content": null,
            "justify_items": null,
            "left": null,
            "margin": null,
            "max_height": null,
            "max_width": null,
            "min_height": null,
            "min_width": null,
            "object_fit": null,
            "object_position": null,
            "order": null,
            "overflow": null,
            "overflow_x": null,
            "overflow_y": null,
            "padding": null,
            "right": null,
            "top": null,
            "visibility": null,
            "width": null
          }
        },
        "7f75efcd47974b5082a8df33aa5f6e6a": {
          "model_module": "@jupyter-widgets/controls",
          "model_name": "DescriptionStyleModel",
          "model_module_version": "1.5.0",
          "state": {
            "_model_module": "@jupyter-widgets/controls",
            "_model_module_version": "1.5.0",
            "_model_name": "DescriptionStyleModel",
            "_view_count": null,
            "_view_module": "@jupyter-widgets/base",
            "_view_module_version": "1.2.0",
            "_view_name": "StyleView",
            "description_width": ""
          }
        },
        "b5c6d8c3c7a941809d5d89c79a281d11": {
          "model_module": "@jupyter-widgets/base",
          "model_name": "LayoutModel",
          "model_module_version": "1.2.0",
          "state": {
            "_model_module": "@jupyter-widgets/base",
            "_model_module_version": "1.2.0",
            "_model_name": "LayoutModel",
            "_view_count": null,
            "_view_module": "@jupyter-widgets/base",
            "_view_module_version": "1.2.0",
            "_view_name": "LayoutView",
            "align_content": null,
            "align_items": null,
            "align_self": null,
            "border": null,
            "bottom": null,
            "display": null,
            "flex": null,
            "flex_flow": null,
            "grid_area": null,
            "grid_auto_columns": null,
            "grid_auto_flow": null,
            "grid_auto_rows": null,
            "grid_column": null,
            "grid_gap": null,
            "grid_row": null,
            "grid_template_areas": null,
            "grid_template_columns": null,
            "grid_template_rows": null,
            "height": null,
            "justify_content": null,
            "justify_items": null,
            "left": null,
            "margin": null,
            "max_height": null,
            "max_width": null,
            "min_height": null,
            "min_width": null,
            "object_fit": null,
            "object_position": null,
            "order": null,
            "overflow": null,
            "overflow_x": null,
            "overflow_y": null,
            "padding": null,
            "right": null,
            "top": null,
            "visibility": null,
            "width": null
          }
        },
        "1dd2290be2324b7180753a8c9ab8a4b4": {
          "model_module": "@jupyter-widgets/controls",
          "model_name": "ProgressStyleModel",
          "model_module_version": "1.5.0",
          "state": {
            "_model_module": "@jupyter-widgets/controls",
            "_model_module_version": "1.5.0",
            "_model_name": "ProgressStyleModel",
            "_view_count": null,
            "_view_module": "@jupyter-widgets/base",
            "_view_module_version": "1.2.0",
            "_view_name": "StyleView",
            "bar_color": null,
            "description_width": ""
          }
        },
        "25aa7b72f5544fb8959f79fdb5befdc1": {
          "model_module": "@jupyter-widgets/base",
          "model_name": "LayoutModel",
          "model_module_version": "1.2.0",
          "state": {
            "_model_module": "@jupyter-widgets/base",
            "_model_module_version": "1.2.0",
            "_model_name": "LayoutModel",
            "_view_count": null,
            "_view_module": "@jupyter-widgets/base",
            "_view_module_version": "1.2.0",
            "_view_name": "LayoutView",
            "align_content": null,
            "align_items": null,
            "align_self": null,
            "border": null,
            "bottom": null,
            "display": null,
            "flex": null,
            "flex_flow": null,
            "grid_area": null,
            "grid_auto_columns": null,
            "grid_auto_flow": null,
            "grid_auto_rows": null,
            "grid_column": null,
            "grid_gap": null,
            "grid_row": null,
            "grid_template_areas": null,
            "grid_template_columns": null,
            "grid_template_rows": null,
            "height": null,
            "justify_content": null,
            "justify_items": null,
            "left": null,
            "margin": null,
            "max_height": null,
            "max_width": null,
            "min_height": null,
            "min_width": null,
            "object_fit": null,
            "object_position": null,
            "order": null,
            "overflow": null,
            "overflow_x": null,
            "overflow_y": null,
            "padding": null,
            "right": null,
            "top": null,
            "visibility": null,
            "width": null
          }
        },
        "85b635c66d234894a726ad86d1e733d0": {
          "model_module": "@jupyter-widgets/controls",
          "model_name": "DescriptionStyleModel",
          "model_module_version": "1.5.0",
          "state": {
            "_model_module": "@jupyter-widgets/controls",
            "_model_module_version": "1.5.0",
            "_model_name": "DescriptionStyleModel",
            "_view_count": null,
            "_view_module": "@jupyter-widgets/base",
            "_view_module_version": "1.2.0",
            "_view_name": "StyleView",
            "description_width": ""
          }
        }
      }
    }
  },
  "nbformat": 4,
  "nbformat_minor": 0
}